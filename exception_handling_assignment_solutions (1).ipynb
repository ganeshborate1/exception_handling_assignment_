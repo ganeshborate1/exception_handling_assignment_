{
  "cells": [
    {
      "cell_type": "markdown",
      "id": "b8824437",
      "metadata": {
        "id": "b8824437"
      },
      "source": [
        "# Exception Handling, Files, Logging & Memory Management\n"
      ]
    },
    {
      "cell_type": "markdown",
      "id": "d6fa0359",
      "metadata": {
        "id": "d6fa0359"
      },
      "source": [
        "### Q1. What is the difference between interpreted and compiled languages?\n",
        "\n",
        "**Answer:** Compiled languages (e.g., C, C++) are transformed by a compiler into machine code before execution; this usually yields faster startup and execution. Interpreted languages (e.g., Python, JavaScript) are executed by an interpreter that reads and runs code line-by-line (or compiles to bytecode at runtime). Compiled code is platform-specific binaries, while interpreted code is generally more portable and easier to debug and iterate on.\n",
        "\n"
      ]
    },
    {
      "cell_type": "markdown",
      "id": "2ecbb737",
      "metadata": {
        "id": "2ecbb737"
      },
      "source": [
        "### Q2. What is exception handling in Python?\n",
        "\n",
        "**Answer:** Exception handling in Python is a mechanism to catch and respond to runtime errors (exceptions) using try/except blocks so the program can handle errors gracefully without crashing.\n",
        "\n",
        "\n"
      ]
    },
    {
      "cell_type": "markdown",
      "id": "49a25b82",
      "metadata": {
        "id": "49a25b82"
      },
      "source": [
        "### Q3. What is the purpose of the finally block in exception handling?\n",
        "\n",
        "**Answer:** The `finally` block contains code that must run whether an exception occurred or not (e.g., cleanup like closing files or releasing resources). It always executes after try/except blocks.\n",
        "\n",
        "---\n"
      ]
    },
    {
      "cell_type": "markdown",
      "id": "2c03b884",
      "metadata": {
        "id": "2c03b884"
      },
      "source": [
        "### Q4. What is logging in Python?\n",
        "\n",
        "**Answer:** Logging is the practice of recording events, errors, and informational messages from a running program to a console, file, or another destination, typically using the `logging` module in Python.\n",
        "\n",
        "---\n"
      ]
    },
    {
      "cell_type": "markdown",
      "id": "9f19ba55",
      "metadata": {
        "id": "9f19ba55"
      },
      "source": [
        "### Q5. What is the significance of the __del__ method in Python?\n",
        "\n",
        "**Answer:** `__del__` is the destructor method for an object called when an object is about to be destroyed. It can be used for cleanup, but its execution timing is not guaranteed (due to garbage collection), so explicit cleanup is preferred.\n",
        "\n",
        "---\n"
      ]
    },
    {
      "cell_type": "markdown",
      "id": "d6c65b0e",
      "metadata": {
        "id": "d6c65b0e"
      },
      "source": [
        "### Q6. What is the difference between import and from ... import in Python?\n",
        "\n",
        "**Answer:** `import module` imports the module object and requires attribute access (module.attr). `from module import name` imports the specified attribute(s) directly into the current namespace (you can use `name` directly).\n",
        "\n",
        "---\n"
      ]
    },
    {
      "cell_type": "markdown",
      "id": "47bf3e3f",
      "metadata": {
        "id": "47bf3e3f"
      },
      "source": [
        "### Q7. How can you handle multiple exceptions in Python?\n",
        "\n",
        "**Answer:** You can handle multiple exceptions by specifying multiple except clauses (one per exception type) or a tuple of exceptions in a single except. Example: `except (TypeError, ValueError):` or have multiple `except` blocks.\n",
        "\n",
        "---\n"
      ]
    },
    {
      "cell_type": "markdown",
      "id": "6e0671ca",
      "metadata": {
        "id": "6e0671ca"
      },
      "source": [
        "### Q8. What is the purpose of the with statement when handling files in Python?\n",
        "\n",
        "**Answer:** The `with` statement (context manager) ensures resources (like file handles) are properly acquired and released automatically, even when exceptions occur. Example: `with open('f.txt') as f:`\n",
        "\n",
        "---\n"
      ]
    },
    {
      "cell_type": "markdown",
      "id": "b624f990",
      "metadata": {
        "id": "b624f990"
      },
      "source": [
        "### Q9. What is the difference between multithreading and multiprocessing?\n",
        "\n",
        "**Answer:** Multithreading runs multiple threads within a single process (shared memory) — good for I/O-bound tasks. Multiprocessing uses multiple processes (separate memory spaces) and avoids the Global Interpreter Lock (GIL) — better for CPU-bound parallelism.\n",
        "\n",
        "---\n"
      ]
    },
    {
      "cell_type": "markdown",
      "id": "276db482",
      "metadata": {
        "id": "276db482"
      },
      "source": [
        "### Q10. What are the advantages of using logging in a program?\n",
        "\n",
        "**Answer:** Advantages include centralized control of diagnostics, easier debugging, persistent error records, adjustable verbosity, and the ability to monitor/alert on runtime problems without printing to stdout.\n",
        "\n",
        "---\n"
      ]
    },
    {
      "cell_type": "markdown",
      "id": "97cea79e",
      "metadata": {
        "id": "97cea79e"
      },
      "source": [
        "### Q11. What is memory management in Python?\n",
        "\n",
        "**Answer:** Memory management is how a language/runtime allocates, tracks, and frees memory used by programs. In Python, this involves reference counting and garbage collection to reclaim unused objects.\n",
        "\n",
        "---\n"
      ]
    },
    {
      "cell_type": "markdown",
      "id": "66cbc78c",
      "metadata": {
        "id": "66cbc78c"
      },
      "source": [
        "### Q12. What are the basic steps involved in exception handling in Python?\n",
        "\n",
        "**Answer:** Basic steps: (1) Identify risky code; (2) Wrap with `try:`; (3) Provide `except` blocks for expected exceptions; (4) Optionally use `else:` for code that runs if no exception occurred; (5) Use `finally:` for cleanup.\n",
        "\n",
        "---\n"
      ]
    },
    {
      "cell_type": "markdown",
      "id": "00b0fe99",
      "metadata": {
        "id": "00b0fe99"
      },
      "source": [
        "### Q13. Why is memory management important in Python?\n",
        "\n",
        "**Answer:** It prevents leaks and keeps the program efficient by freeing memory no longer needed, which is important for long-running processes or memory-constrained environments.\n",
        "\n",
        "---\n"
      ]
    },
    {
      "cell_type": "markdown",
      "id": "d3081d55",
      "metadata": {
        "id": "d3081d55"
      },
      "source": [
        "### Q14. What is the role of try and except in exception handling?\n",
        "\n",
        "**Answer:** `try` encloses code that might raise an exception; `except` catches specified exceptions and handles them so the program can continue or fail gracefully.\n",
        "\n",
        "---\n"
      ]
    },
    {
      "cell_type": "markdown",
      "id": "4a0d546e",
      "metadata": {
        "id": "4a0d546e"
      },
      "source": [
        "### Q15. How does Python's garbage collection system work?\n",
        "\n",
        "**Answer:** Python primarily uses reference counting, augmented by a cyclic garbage collector that finds cycles of objects with reference counts that can't reach zero. The `gc` module manages the cyclic collector.\n",
        "\n",
        "---\n"
      ]
    },
    {
      "cell_type": "markdown",
      "id": "bda782b6",
      "metadata": {
        "id": "bda782b6"
      },
      "source": [
        "### Q16. What is the purpose of the else block in exception handling?\n",
        "\n",
        "**Answer:** `else` runs when the `try` block did **not** raise an exception. It's useful to place code that should run only if no errors occurred (keeping separation from `try`).\n",
        "\n",
        "---\n"
      ]
    },
    {
      "cell_type": "markdown",
      "id": "b16728df",
      "metadata": {
        "id": "b16728df"
      },
      "source": [
        "### Q17. What are the common logging levels in Python?\n",
        "\n",
        "**Answer:** Common levels: DEBUG, INFO, WARNING, ERROR, CRITICAL. Each level indicates the severity/verbosity of the message.\n",
        "\n",
        "---\n"
      ]
    },
    {
      "cell_type": "markdown",
      "id": "cc1b0572",
      "metadata": {
        "id": "cc1b0572"
      },
      "source": [
        "### Q18. What is the difference between os.fork() and multiprocessing in Python?\n",
        "\n",
        "**Answer:** `os.fork()` (Unix-only) creates a new process by duplicating the current process (low-level). `multiprocessing` is a higher-level cross-platform module that provides abstractions for creating processes, pools, and inter-process communication.\n",
        "\n",
        "---\n"
      ]
    },
    {
      "cell_type": "markdown",
      "id": "9162f4f8",
      "metadata": {
        "id": "9162f4f8"
      },
      "source": [
        "### Q19. What is the importance of closing a file in Python?\n",
        "\n",
        "**Answer:** Closing files ensures buffered data is flushed to disk and underlying OS resources are released. Not closing can lead to data loss and resource exhaustion.\n",
        "\n",
        "---\n"
      ]
    },
    {
      "cell_type": "markdown",
      "id": "6105cbcc",
      "metadata": {
        "id": "6105cbcc"
      },
      "source": [
        "### Q20. What is the difference between file.read() and file.readline() in Python?\n",
        "\n",
        "**Answer:** `file.read()` reads the whole file (or a specified number of bytes) while `file.readline()` reads a single line up to the newline. `read()` returns a full string; `readline()` returns the next line each call.\n",
        "\n",
        "---\n"
      ]
    },
    {
      "cell_type": "markdown",
      "id": "af29a708",
      "metadata": {
        "id": "af29a708"
      },
      "source": [
        "### Q21. What is the logging module in Python used for?\n",
        "\n",
        "**Answer:** The `logging` module provides a flexible framework for emitting log messages from Python programs, including different handlers (file, stream), formatters, and severity levels.\n",
        "\n",
        "---\n"
      ]
    },
    {
      "cell_type": "markdown",
      "id": "cb6b5c0b",
      "metadata": {
        "id": "cb6b5c0b"
      },
      "source": [
        "### Q22. What is the os module in Python used for in file handling?\n",
        "\n",
        "**Answer:** The `os` module provides operating-system interfaces such as file path manipulation, checking file existence, removing files, changing permissions, and other utilities used in file handling.\n",
        "\n",
        "---\n"
      ]
    },
    {
      "cell_type": "markdown",
      "id": "9ec53f5a",
      "metadata": {
        "id": "9ec53f5a"
      },
      "source": [
        "### Q23. What are the challenges associated with memory management in Python?\n",
        "\n",
        "**Answer:** Challenges: memory leaks via global references or caches, large data structures, inefficient algorithms, fragmentation, and managing memory in long-running services. Also, unpredictable GC timing can complicate resource-sensitive code.\n",
        "\n",
        "---\n"
      ]
    },
    {
      "cell_type": "markdown",
      "id": "09dc44b4",
      "metadata": {
        "id": "09dc44b4"
      },
      "source": [
        "### Q24. How do you raise an exception manually in Python?\n",
        "\n",
        "**Answer:** Use `raise ExceptionType('message')` or `raise` inside an except block to re-raise the current exception. You can raise built-in or custom exception classes.\n",
        "\n",
        "---\n"
      ]
    },
    {
      "cell_type": "markdown",
      "id": "c6f51f2d",
      "metadata": {
        "id": "c6f51f2d"
      },
      "source": [
        "### Q25. Why is it important to use multithreading in certain applications?\n",
        "\n",
        "**Answer:** Multithreading helps keep programs responsive and efficiently handle I/O-bound concurrency (networking, disk I/O) because threads can switch while waiting for I/O. It also simplifies some programming models by sharing memory between tasks.\n",
        "\n",
        "---\n"
      ]
    },
    {
      "cell_type": "markdown",
      "id": "391311d9",
      "metadata": {
        "id": "391311d9"
      },
      "source": [
        "### Practical Q1. How can you open a file for writing in Python and write a string to it?\n"
      ]
    },
    {
      "cell_type": "code",
      "execution_count": null,
      "id": "d77fdd7a",
      "metadata": {
        "id": "d77fdd7a"
      },
      "outputs": [],
      "source": [
        "with open('/mnt/data/demo_write.txt', 'w', encoding='utf-8') as f:\n",
        "    f.write('This is a sample string written to the file.\\n')\n",
        "print('Wrote to /mnt/data/demo_write.txt')"
      ]
    },
    {
      "cell_type": "markdown",
      "id": "dd7627eb",
      "metadata": {
        "id": "dd7627eb"
      },
      "source": [
        "### Practical Q2. Write a Python program to read the contents of a file and print each line.\n"
      ]
    },
    {
      "cell_type": "code",
      "execution_count": null,
      "id": "d5d79e13",
      "metadata": {
        "id": "d5d79e13"
      },
      "outputs": [],
      "source": [
        "\n",
        "with open('/mnt/data/demo_read.txt', 'w', encoding='utf-8') as f:\n",
        "    f.write('Line 1\\nLine 2\\nLine 3\\n')\n",
        "\n",
        "with open('/mnt/data/demo_read.txt', 'r', encoding='utf-8') as f:\n",
        "    for line in f:\n",
        "        print(line.rstrip())"
      ]
    },
    {
      "cell_type": "markdown",
      "id": "589845d4",
      "metadata": {
        "id": "589845d4"
      },
      "source": [
        "### Practical Q3. How would you handle a case where the file doesn't exist while trying to open it for reading?\n"
      ]
    },
    {
      "cell_type": "code",
      "execution_count": null,
      "id": "19390025",
      "metadata": {
        "id": "19390025"
      },
      "outputs": [],
      "source": [
        "try:\n",
        "    with open('/mnt/data/non_existent_file.txt', 'r', encoding='utf-8') as f:\n",
        "        data = f.read()\n",
        "except FileNotFoundError:\n",
        "    print('File not found. Please check the file path.')"
      ]
    },
    {
      "cell_type": "markdown",
      "id": "476ec3bd",
      "metadata": {
        "id": "476ec3bd"
      },
      "source": [
        "### Practical Q4. Write a Python script that reads from one file and writes its content to another file.\n"
      ]
    },
    {
      "cell_type": "code",
      "execution_count": null,
      "id": "11a3d4e2",
      "metadata": {
        "id": "11a3d4e2"
      },
      "outputs": [],
      "source": [
        "src = '/mnt/data/demo_read.txt'\n",
        "dst = '/mnt/data/demo_copy.txt'\n",
        "with open(src, 'r', encoding='utf-8') as fin, open(dst, 'w', encoding='utf-8') as fout:\n",
        "    for line in fin:\n",
        "        fout.write(line)\n",
        "print('Copied', src, 'to', dst)"
      ]
    },
    {
      "cell_type": "markdown",
      "id": "3a023711",
      "metadata": {
        "id": "3a023711"
      },
      "source": [
        "### Practical Q5. How would you catch and handle division by zero error in Python?\n"
      ]
    },
    {
      "cell_type": "code",
      "execution_count": null,
      "id": "1dcf65a4",
      "metadata": {
        "id": "1dcf65a4"
      },
      "outputs": [],
      "source": [
        "try:\n",
        "    x = 10\n",
        "    y = 0\n",
        "    print(x / y)\n",
        "except ZeroDivisionError as e:\n",
        "    print('Cannot divide by zero:', e)"
      ]
    },
    {
      "cell_type": "markdown",
      "id": "3e6604d4",
      "metadata": {
        "id": "3e6604d4"
      },
      "source": [
        "### Practical Q6. Write a Python program that logs an error message to a log file when a division by zero exception occurs.\n"
      ]
    },
    {
      "cell_type": "code",
      "execution_count": null,
      "id": "4d1e5596",
      "metadata": {
        "id": "4d1e5596"
      },
      "outputs": [],
      "source": [
        "import logging\n",
        "logging.basicConfig(filename='/mnt/data/divzero.log', level=logging.ERROR,\n",
        "                    format='%(asctime)s - %(levelname)s - %(message)s')\n",
        "try:\n",
        "    a = 5\n",
        "    b = 0\n",
        "    c = a / b\n",
        "except ZeroDivisionError:\n",
        "    logging.error('Division by zero attempted', exc_info=True)\n",
        "    print('Logged division by zero to /mnt/data/divzero.log')"
      ]
    },
    {
      "cell_type": "markdown",
      "id": "0b4e377a",
      "metadata": {
        "id": "0b4e377a"
      },
      "source": [
        "### Practical Q7. How do you log information at different levels (INFO, ERROR, WARNING) in Python using the logging module?\n"
      ]
    },
    {
      "cell_type": "code",
      "execution_count": null,
      "id": "9beb0959",
      "metadata": {
        "id": "9beb0959"
      },
      "outputs": [],
      "source": [
        "import logging\n",
        "logger = logging.getLogger('example')\n",
        "logger.setLevel(logging.DEBUG)\n",
        "handler = logging.FileHandler('/mnt/data/example_levels.log')\n",
        "handler.setFormatter(logging.Formatter('%(asctime)s - %(levelname)s - %(message)s'))\n",
        "logger.addHandler(handler)\n",
        "logger.info('This is an info message')\n",
        "logger.warning('This is a warning')\n",
        "logger.error('This is an error')\n",
        "print('Wrote INFO, WARNING, ERROR to /mnt/data/example_levels.log')"
      ]
    },
    {
      "cell_type": "markdown",
      "id": "e55ca9fd",
      "metadata": {
        "id": "e55ca9fd"
      },
      "source": [
        "### Practical Q8. Write a program to handle a file opening error using exception handling.\n"
      ]
    },
    {
      "cell_type": "code",
      "execution_count": null,
      "id": "503b9930",
      "metadata": {
        "id": "503b9930"
      },
      "outputs": [],
      "source": [
        "try:\n",
        "    f = open('/mnt/data/maybe_missing.txt', 'r', encoding='utf-8')\n",
        "except FileNotFoundError as e:\n",
        "    print('Handled FileNotFoundError:', e)\n",
        "else:\n",
        "    with f:\n",
        "        print('File opened successfully')"
      ]
    },
    {
      "cell_type": "markdown",
      "id": "5d458f56",
      "metadata": {
        "id": "5d458f56"
      },
      "source": [
        "### Practical Q9. How can you read a file line by line and store its content in a list in Python?\n"
      ]
    },
    {
      "cell_type": "code",
      "execution_count": null,
      "id": "4d578a7d",
      "metadata": {
        "id": "4d578a7d"
      },
      "outputs": [],
      "source": [
        "lines = []\n",
        "with open('/mnt/data/demo_read.txt', 'r', encoding='utf-8') as f:\n",
        "    for line in f:\n",
        "        lines.append(line.rstrip())\n",
        "print('Lines list:', lines)"
      ]
    },
    {
      "cell_type": "markdown",
      "id": "0021da33",
      "metadata": {
        "id": "0021da33"
      },
      "source": [
        "### Practical Q10. How can you append data to an existing file in Python?\n"
      ]
    },
    {
      "cell_type": "code",
      "execution_count": null,
      "id": "9e8b2e98",
      "metadata": {
        "id": "9e8b2e98"
      },
      "outputs": [],
      "source": [
        "with open('/mnt/data/demo_write.txt', 'a', encoding='utf-8') as f:\n",
        "    f.write('Appended line.\\n')\n",
        "print('Appended to /mnt/data/demo_write.txt')"
      ]
    },
    {
      "cell_type": "markdown",
      "id": "b47fc7b2",
      "metadata": {
        "id": "b47fc7b2"
      },
      "source": [
        "### Practical Q11. Write a Python program that uses a try-except block to handle an error when attempting to access a dictionary key that doesn't exist.\n"
      ]
    },
    {
      "cell_type": "code",
      "execution_count": null,
      "id": "f4e01b6e",
      "metadata": {
        "id": "f4e01b6e"
      },
      "outputs": [],
      "source": [
        "d = {'a': 1, 'b': 2}\n",
        "try:\n",
        "    print(d['c'])\n",
        "except KeyError:\n",
        "    print('Key not found; using default or handling error gracefully')\n",
        "# alternative: d.get('c', 'default')"
      ]
    },
    {
      "cell_type": "markdown",
      "id": "6c7972c0",
      "metadata": {
        "id": "6c7972c0"
      },
      "source": [
        "### Practical Q12. Write a program that demonstrates using multiple except blocks to handle different types of exceptions.\n"
      ]
    },
    {
      "cell_type": "code",
      "execution_count": null,
      "id": "a49f679c",
      "metadata": {
        "id": "a49f679c"
      },
      "outputs": [],
      "source": [
        "try:\n",
        "    data = [1, 2]\n",
        "    print(data[10])\n",
        "    x = 1 / 0\n",
        "except IndexError as e:\n",
        "    print('Index error:', e)\n",
        "except ZeroDivisionError as e:\n",
        "    print('Zero division:', e)\n",
        "except Exception as e:\n",
        "    print('Other exception:', e)"
      ]
    },
    {
      "cell_type": "markdown",
      "id": "5ed35d8d",
      "metadata": {
        "id": "5ed35d8d"
      },
      "source": [
        "### Practical Q13. How would you check if a file exists before attempting to read it in Python?\n"
      ]
    },
    {
      "cell_type": "code",
      "execution_count": null,
      "id": "903c91f0",
      "metadata": {
        "id": "903c91f0"
      },
      "outputs": [],
      "source": [
        "from pathlib import Path\n",
        "p = Path('/mnt/data/demo_read.txt')\n",
        "if p.exists():\n",
        "    print('File exists')\n",
        "else:\n",
        "    print('File does not exist')"
      ]
    },
    {
      "cell_type": "markdown",
      "id": "a00c6f74",
      "metadata": {
        "id": "a00c6f74"
      },
      "source": [
        "### Practical Q14. Write a program that uses the logging module to log both informational and error messages.\n"
      ]
    },
    {
      "cell_type": "code",
      "execution_count": null,
      "id": "18306ead",
      "metadata": {
        "id": "18306ead"
      },
      "outputs": [],
      "source": [
        "import logging\n",
        "logging.basicConfig(filename='/mnt/data/info_error.log', level=logging.INFO,\n",
        "                    format='%(asctime)s - %(levelname)s - %(message)s')\n",
        "logging.info('This is an informational message')\n",
        "try:\n",
        "    1/0\n",
        "except ZeroDivisionError:\n",
        "    logging.error('An error occurred', exc_info=True)\n",
        "print('Logged info and error to /mnt/data/info_error.log')"
      ]
    },
    {
      "cell_type": "markdown",
      "id": "4a8ac3f0",
      "metadata": {
        "id": "4a8ac3f0"
      },
      "source": [
        "### Practical Q15. Write a Python program that prints the content of a file and handles the case when the file is empty.\n"
      ]
    },
    {
      "cell_type": "code",
      "execution_count": null,
      "id": "48e145b7",
      "metadata": {
        "id": "48e145b7"
      },
      "outputs": [],
      "source": [
        "path = '/mnt/data/possibly_empty.txt'\n",
        "with open(path, 'w', encoding='utf-8') as f:\n",
        "    f.write('')\n",
        "\n",
        "with open(path, 'r', encoding='utf-8') as f:\n",
        "    content = f.read()\n",
        "if not content.strip():\n",
        "    print('File is empty')\n",
        "else:\n",
        "    print(content)"
      ]
    },
    {
      "cell_type": "markdown",
      "id": "47ed9504",
      "metadata": {
        "id": "47ed9504"
      },
      "source": [
        "### Practical Q16. Demonstrate how to use memory profiling to check the memory usage of a small program.\n"
      ]
    },
    {
      "cell_type": "code",
      "execution_count": null,
      "id": "1b1c85fe",
      "metadata": {
        "id": "1b1c85fe"
      },
      "outputs": [],
      "source": [
        "import tracemalloc\n",
        "def allocate():\n",
        "    a = [i for i in range(100000)]\n",
        "    return a\n",
        "\n",
        "tracemalloc.start()\n",
        "snapshot1 = tracemalloc.take_snapshot()\n",
        "lst = allocate()\n",
        "snapshot2 = tracemalloc.take_snapshot()\n",
        "top_stats = snapshot2.compare_to(snapshot1, 'lineno')\n",
        "print('Top memory differences:')\n",
        "for stat in top_stats[:5]:\n",
        "    print(stat)"
      ]
    },
    {
      "cell_type": "markdown",
      "id": "7f037aa4",
      "metadata": {
        "id": "7f037aa4"
      },
      "source": [
        "### Practical Q17. Write a Python program to create and write a list of numbers to a file, one number per line.\n"
      ]
    },
    {
      "cell_type": "code",
      "execution_count": null,
      "id": "04392a58",
      "metadata": {
        "id": "04392a58"
      },
      "outputs": [],
      "source": [
        "numbers = list(range(1, 11))\n",
        "with open('/mnt/data/numbers.txt', 'w', encoding='utf-8') as f:\n",
        "    for n in numbers:\n",
        "        f.write(str(n) + '\\n')\n",
        "print('Wrote numbers to /mnt/data/numbers.txt')"
      ]
    },
    {
      "cell_type": "markdown",
      "id": "b04f2060",
      "metadata": {
        "id": "b04f2060"
      },
      "source": [
        "### Practical Q18. How would you implement a basic logging setup that logs to a file with rotation after 1MB?\n"
      ]
    },
    {
      "cell_type": "code",
      "execution_count": null,
      "id": "7591dc51",
      "metadata": {
        "id": "7591dc51"
      },
      "outputs": [],
      "source": [
        "import logging\n",
        "from logging.handlers import RotatingFileHandler\n",
        "logger = logging.getLogger('rotate_example')\n",
        "logger.setLevel(logging.INFO)\n",
        "handler = RotatingFileHandler('/mnt/data/rotating.log', maxBytes=1*1024*1024, backupCount=3)\n",
        "handler.setFormatter(logging.Formatter('%(asctime)s - %(levelname)s - %(message)s'))\n",
        "logger.addHandler(handler)\n",
        "for i in range(100):\n",
        "    logger.info(f'Log entry {i}')\n",
        "print('Wrote rotating logs to /mnt/data/rotating.log')"
      ]
    },
    {
      "cell_type": "markdown",
      "id": "889f3e41",
      "metadata": {
        "id": "889f3e41"
      },
      "source": [
        "### Practical Q19. Write a program that handles both IndexError and KeyError using a try-except block.\n"
      ]
    },
    {
      "cell_type": "code",
      "execution_count": 1,
      "id": "30bcb771",
      "metadata": {
        "colab": {
          "base_uri": "https://localhost:8080/"
        },
        "id": "30bcb771",
        "outputId": "3143892c-7490-485f-8ba4-57a537c7fbb4"
      },
      "outputs": [
        {
          "output_type": "stream",
          "name": "stdout",
          "text": [
            "Handled KeyError\n"
          ]
        }
      ],
      "source": [
        "d = {'x': 1}\n",
        "lst = [0]\n",
        "try:\n",
        "    print(d['y'])\n",
        "    print(lst[5])\n",
        "except KeyError:\n",
        "    print('Handled KeyError')\n",
        "except IndexError:\n",
        "    print('Handled IndexError')"
      ]
    },
    {
      "cell_type": "markdown",
      "id": "e53e6ba7",
      "metadata": {
        "id": "e53e6ba7"
      },
      "source": [
        "### Practical Q20. How would you open a file and read its contents using a context manager in Python?\n"
      ]
    },
    {
      "cell_type": "code",
      "execution_count": null,
      "id": "d8d04c91",
      "metadata": {
        "id": "d8d04c91"
      },
      "outputs": [],
      "source": [
        "with open('/mnt/data/demo_read.txt', 'r', encoding='utf-8') as f:\n",
        "    contents = f.read()\n",
        "print('Contents length:', len(contents))"
      ]
    },
    {
      "cell_type": "markdown",
      "id": "7a507c1f",
      "metadata": {
        "id": "7a507c1f"
      },
      "source": [
        "### Practical Q21. Write a Python program that reads a file and prints the number of occurrences of a specific word.\n"
      ]
    },
    {
      "cell_type": "code",
      "execution_count": null,
      "id": "246a1d9a",
      "metadata": {
        "id": "246a1d9a"
      },
      "outputs": [],
      "source": [
        "word = 'line'\n",
        "count = 0\n",
        "with open('/mnt/data/demo_read.txt', 'r', encoding='utf-8') as f:\n",
        "    for line in f:\n",
        "        count += line.lower().split().count(word)\n",
        "print(f\"Occurrences of '{word}':\", count)"
      ]
    },
    {
      "cell_type": "markdown",
      "id": "5ceac581",
      "metadata": {
        "id": "5ceac581"
      },
      "source": [
        "### Practical Q22. How can you check if a file is empty before attempting to read its contents?\n"
      ]
    },
    {
      "cell_type": "code",
      "execution_count": null,
      "id": "0972dfd3",
      "metadata": {
        "id": "0972dfd3"
      },
      "outputs": [],
      "source": [
        "import os\n",
        "p = '/mnt/data/possibly_empty.txt'\n",
        "if os.path.exists(p) and os.path.getsize(p) == 0:\n",
        "    print('File exists and is empty')\n",
        "else:\n",
        "    print('File is non-empty or missing')"
      ]
    },
    {
      "cell_type": "markdown",
      "id": "e9e6db1a",
      "metadata": {
        "id": "e9e6db1a"
      },
      "source": [
        "### Practical Q23. Write a Python program that writes to a log file when an error occurs during file handling.\n"
      ]
    },
    {
      "cell_type": "code",
      "execution_count": null,
      "id": "2f4ba944",
      "metadata": {
        "id": "2f4ba944"
      },
      "outputs": [],
      "source": [
        "import logging\n",
        "logging.basicConfig(filename='/mnt/data/file_errors.log', level=logging.ERROR,\n",
        "                    format='%(asctime)s - %(levelname)s - %(message)s')\n",
        "try:\n",
        "    with open('/mnt/data/non_existent_file_2.txt', 'r', encoding='utf-8') as f:\n",
        "        _ = f.read()\n",
        "except Exception as e:\n",
        "    logging.error('File handling error', exc_info=True)\n",
        "    print('Logged a file handling error to /mnt/data/file_errors.log')"
      ]
    }
  ],
  "metadata": {
    "colab": {
      "provenance": []
    },
    "language_info": {
      "name": "python"
    },
    "kernelspec": {
      "name": "python3",
      "display_name": "Python 3"
    }
  },
  "nbformat": 4,
  "nbformat_minor": 5
}